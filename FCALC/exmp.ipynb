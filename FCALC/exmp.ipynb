{
 "cells": [
  {
   "cell_type": "code",
   "execution_count": 1,
   "metadata": {},
   "outputs": [],
   "source": [
    "import fcalc\n",
    "import pandas as pd\n",
    "import numpy as np\n",
    "from sklearn.model_selection import train_test_split, KFold\n",
    "import time\n",
    "from tqdm import tqdm\n",
    "from sklearn.metrics import accuracy_score, f1_score\n",
    "from sklearn.preprocessing import LabelEncoder"
   ]
  },
  {
   "cell_type": "markdown",
   "metadata": {},
   "source": [
    "# Pattern structures"
   ]
  },
  {
   "cell_type": "markdown",
   "metadata": {},
   "source": [
    "## Categorical data"
   ]
  },
  {
   "cell_type": "code",
   "execution_count": 2,
   "metadata": {},
   "outputs": [
    {
     "data": {
      "text/html": [
       "<div>\n",
       "<style scoped>\n",
       "    .dataframe tbody tr th:only-of-type {\n",
       "        vertical-align: middle;\n",
       "    }\n",
       "\n",
       "    .dataframe tbody tr th {\n",
       "        vertical-align: top;\n",
       "    }\n",
       "\n",
       "    .dataframe thead th {\n",
       "        text-align: right;\n",
       "    }\n",
       "</style>\n",
       "<table border=\"1\" class=\"dataframe\">\n",
       "  <thead>\n",
       "    <tr style=\"text-align: right;\">\n",
       "      <th></th>\n",
       "      <th>top-left-square</th>\n",
       "      <th>top-middle-square</th>\n",
       "      <th>top-right-square</th>\n",
       "      <th>middle-left-square</th>\n",
       "      <th>middle-middle-square</th>\n",
       "      <th>middle-right-square</th>\n",
       "      <th>bottom-left-square</th>\n",
       "      <th>bottom-middle-square</th>\n",
       "      <th>bottom-right-square</th>\n",
       "      <th>Class</th>\n",
       "    </tr>\n",
       "  </thead>\n",
       "  <tbody>\n",
       "    <tr>\n",
       "      <th>0</th>\n",
       "      <td>x</td>\n",
       "      <td>x</td>\n",
       "      <td>x</td>\n",
       "      <td>x</td>\n",
       "      <td>o</td>\n",
       "      <td>o</td>\n",
       "      <td>x</td>\n",
       "      <td>o</td>\n",
       "      <td>o</td>\n",
       "      <td>True</td>\n",
       "    </tr>\n",
       "    <tr>\n",
       "      <th>1</th>\n",
       "      <td>x</td>\n",
       "      <td>x</td>\n",
       "      <td>x</td>\n",
       "      <td>x</td>\n",
       "      <td>o</td>\n",
       "      <td>o</td>\n",
       "      <td>o</td>\n",
       "      <td>x</td>\n",
       "      <td>o</td>\n",
       "      <td>True</td>\n",
       "    </tr>\n",
       "    <tr>\n",
       "      <th>2</th>\n",
       "      <td>x</td>\n",
       "      <td>x</td>\n",
       "      <td>x</td>\n",
       "      <td>x</td>\n",
       "      <td>o</td>\n",
       "      <td>o</td>\n",
       "      <td>o</td>\n",
       "      <td>o</td>\n",
       "      <td>x</td>\n",
       "      <td>True</td>\n",
       "    </tr>\n",
       "    <tr>\n",
       "      <th>3</th>\n",
       "      <td>x</td>\n",
       "      <td>x</td>\n",
       "      <td>x</td>\n",
       "      <td>x</td>\n",
       "      <td>o</td>\n",
       "      <td>o</td>\n",
       "      <td>o</td>\n",
       "      <td>b</td>\n",
       "      <td>b</td>\n",
       "      <td>True</td>\n",
       "    </tr>\n",
       "    <tr>\n",
       "      <th>4</th>\n",
       "      <td>x</td>\n",
       "      <td>x</td>\n",
       "      <td>x</td>\n",
       "      <td>x</td>\n",
       "      <td>o</td>\n",
       "      <td>o</td>\n",
       "      <td>b</td>\n",
       "      <td>o</td>\n",
       "      <td>b</td>\n",
       "      <td>True</td>\n",
       "    </tr>\n",
       "  </tbody>\n",
       "</table>\n",
       "</div>"
      ],
      "text/plain": [
       "  top-left-square top-middle-square top-right-square middle-left-square  \\\n",
       "0               x                 x                x                  x   \n",
       "1               x                 x                x                  x   \n",
       "2               x                 x                x                  x   \n",
       "3               x                 x                x                  x   \n",
       "4               x                 x                x                  x   \n",
       "\n",
       "  middle-middle-square middle-right-square bottom-left-square  \\\n",
       "0                    o                   o                  x   \n",
       "1                    o                   o                  o   \n",
       "2                    o                   o                  o   \n",
       "3                    o                   o                  o   \n",
       "4                    o                   o                  b   \n",
       "\n",
       "  bottom-middle-square bottom-right-square  Class  \n",
       "0                    o                   o   True  \n",
       "1                    x                   o   True  \n",
       "2                    o                   x   True  \n",
       "3                    b                   b   True  \n",
       "4                    o                   b   True  "
      ]
     },
     "execution_count": 2,
     "metadata": {},
     "output_type": "execute_result"
    }
   ],
   "source": [
    "# Uploading data\n",
    "column_names = [\n",
    "        'top-left-square', 'top-middle-square', 'top-right-square',\n",
    "        'middle-left-square', 'middle-middle-square', 'middle-right-square',\n",
    "        'bottom-left-square', 'bottom-middle-square', 'bottom-right-square',\n",
    "        'Class'\n",
    "    ]\n",
    "df = pd.read_csv('data_sets/tic-tac-toe.data', names = column_names)\n",
    "df['Class'] = [x == 'positive' for x in df['Class']]\n",
    "df.head()"
   ]
  },
  {
   "cell_type": "code",
   "execution_count": 3,
   "metadata": {},
   "outputs": [],
   "source": [
    "# Splitting the data into training and test\n",
    "X = df[column_names[:-1]].values\n",
    "y = df['Class'].values\n",
    "X_train, X_test, y_train, y_test = train_test_split(X, y, test_size=0.3, random_state=42)"
   ]
  },
  {
   "cell_type": "code",
   "execution_count": 7,
   "metadata": {},
   "outputs": [
    {
     "name": "stdout",
     "output_type": "stream",
     "text": [
      "Accuracy: 0.9931\n",
      "F1-score: 0.9921\n"
     ]
    }
   ],
   "source": [
    "# Initializing classifier object without randomization\n",
    "pat_cls = fcalc.classifier.PatternClassifier(context=X_train, labels=y_train, \n",
    "                                            categorical=range(X_train.shape[1]), # indices of columns with categorical features (all columns in this case)\n",
    "                                            method=\"standard\", randomize=False) # other methods: standard-support, ratio-support\n",
    "# Computing support\n",
    "pat_cls.compute_support(test=X_test)\n",
    "# Predict the classes for test objects\n",
    "pat_cls.predict(test=X_test)\n",
    "# Results\n",
    "print(\"Accuracy:\", round(accuracy_score(y_test, pat_cls.predictions), 4))\n",
    "print(\"F1-score:\", round(f1_score(y_test, pat_cls.predictions, average='macro'), 4))"
   ]
  },
  {
   "cell_type": "code",
   "execution_count": 5,
   "metadata": {},
   "outputs": [
    {
     "name": "stdout",
     "output_type": "stream",
     "text": [
      "Accuracy: 0.9132\n",
      "F1-score: 0.6121\n"
     ]
    }
   ],
   "source": [
    "# Initializing classifier object with randomization\n",
    "pat_cls = fcalc.classifier.PatternClassifier(context=X_train, labels=y_train, \n",
    "                                            categorical=range(X_train.shape[1]), # indices of columns with categorical features (all columns in this case)\n",
    "                                            method=\"standard\", randomize=True, # other methods: standard-support, ratio-support\n",
    "                                            num_iters=50, subsample_size=1) # subsample size should not exceed the size of the smallest class in training set\n",
    "# Computing support\n",
    "pat_cls.compute_support(test=X_test)\n",
    "# Predict the classes for test objects\n",
    "pat_cls.predict(test=X_test)\n",
    "# Results\n",
    "print(\"Accuracy:\", round(accuracy_score(y_test, pat_cls.predictions), 4))\n",
    "print(\"F1-score:\", round(f1_score(y_test, pat_cls.predictions, average='macro'), 4))"
   ]
  },
  {
   "cell_type": "markdown",
   "metadata": {},
   "source": [
    "## Numerical data"
   ]
  },
  {
   "cell_type": "code",
   "execution_count": 2,
   "metadata": {},
   "outputs": [
    {
     "data": {
      "text/html": [
       "<div>\n",
       "<style scoped>\n",
       "    .dataframe tbody tr th:only-of-type {\n",
       "        vertical-align: middle;\n",
       "    }\n",
       "\n",
       "    .dataframe tbody tr th {\n",
       "        vertical-align: top;\n",
       "    }\n",
       "\n",
       "    .dataframe thead th {\n",
       "        text-align: right;\n",
       "    }\n",
       "</style>\n",
       "<table border=\"1\" class=\"dataframe\">\n",
       "  <thead>\n",
       "    <tr style=\"text-align: right;\">\n",
       "      <th></th>\n",
       "      <th>sepal_length</th>\n",
       "      <th>sepal_width</th>\n",
       "      <th>petal_length</th>\n",
       "      <th>petal_width</th>\n",
       "      <th>species</th>\n",
       "    </tr>\n",
       "  </thead>\n",
       "  <tbody>\n",
       "    <tr>\n",
       "      <th>71</th>\n",
       "      <td>6.1</td>\n",
       "      <td>2.8</td>\n",
       "      <td>4.0</td>\n",
       "      <td>1.3</td>\n",
       "      <td>1</td>\n",
       "    </tr>\n",
       "    <tr>\n",
       "      <th>117</th>\n",
       "      <td>7.7</td>\n",
       "      <td>3.8</td>\n",
       "      <td>6.7</td>\n",
       "      <td>2.2</td>\n",
       "      <td>2</td>\n",
       "    </tr>\n",
       "    <tr>\n",
       "      <th>2</th>\n",
       "      <td>4.7</td>\n",
       "      <td>3.2</td>\n",
       "      <td>1.3</td>\n",
       "      <td>0.2</td>\n",
       "      <td>0</td>\n",
       "    </tr>\n",
       "    <tr>\n",
       "      <th>97</th>\n",
       "      <td>6.2</td>\n",
       "      <td>2.9</td>\n",
       "      <td>4.3</td>\n",
       "      <td>1.3</td>\n",
       "      <td>1</td>\n",
       "    </tr>\n",
       "    <tr>\n",
       "      <th>62</th>\n",
       "      <td>6.0</td>\n",
       "      <td>2.2</td>\n",
       "      <td>4.0</td>\n",
       "      <td>1.0</td>\n",
       "      <td>1</td>\n",
       "    </tr>\n",
       "  </tbody>\n",
       "</table>\n",
       "</div>"
      ],
      "text/plain": [
       "     sepal_length  sepal_width  petal_length  petal_width  species\n",
       "71            6.1          2.8           4.0          1.3        1\n",
       "117           7.7          3.8           6.7          2.2        2\n",
       "2             4.7          3.2           1.3          0.2        0\n",
       "97            6.2          2.9           4.3          1.3        1\n",
       "62            6.0          2.2           4.0          1.0        1"
      ]
     },
     "execution_count": 2,
     "metadata": {},
     "output_type": "execute_result"
    }
   ],
   "source": [
    "# Uploading data\n",
    "df = pd.read_csv('data_sets/iris.data', names=['sepal_length',\t'sepal_width',\t'petal_length',\t'petal_width','species'])\n",
    "# Encoding labels\n",
    "df['species'] = LabelEncoder().fit_transform(df['species'])\n",
    "df.sample(5)"
   ]
  },
  {
   "cell_type": "code",
   "execution_count": 3,
   "metadata": {},
   "outputs": [],
   "source": [
    "X = df.drop('species',axis=1).values\n",
    "y = df['species'].values\n",
    "X_train, X_test, y_train, y_test = train_test_split(X, y, test_size=0.3, random_state=42)"
   ]
  },
  {
   "cell_type": "code",
   "execution_count": 10,
   "metadata": {},
   "outputs": [
    {
     "name": "stdout",
     "output_type": "stream",
     "text": [
      "Accuracy: 0.9778\n",
      "F1-score: 0.9743\n"
     ]
    }
   ],
   "source": [
    "# Initializing classifier object without randomization\n",
    "pat_cls = fcalc.classifier.PatternClassifier(context=X_train, labels=y_train, \n",
    "                                            method=\"proximity\", randomize=False)\n",
    "# Computing support\n",
    "pat_cls.compute_support(test=X_test)\n",
    "# Predict the classes for test objects\n",
    "pat_cls.predict(test=X_test)\n",
    "# Results\n",
    "print(\"Accuracy:\", round(accuracy_score(y_test, pat_cls.predictions), 4))\n",
    "print(\"F1-score:\", round(f1_score(y_test, pat_cls.predictions, average='macro'), 4))"
   ]
  },
  {
   "cell_type": "code",
   "execution_count": 11,
   "metadata": {},
   "outputs": [
    {
     "name": "stdout",
     "output_type": "stream",
     "text": [
      "Accuracy: 0.9556\n",
      "F1-score: 0.9484\n"
     ]
    }
   ],
   "source": [
    "# Initializing classifier object with randomization\n",
    "pat_cls = fcalc.classifier.PatternClassifier(context=X_train, labels=y_train, \n",
    "                                            method=\"proximity\", randomize=True,\n",
    "                                            num_iters=5, subsample_size=4)\n",
    "# Computing support\n",
    "pat_cls.compute_support(test=X_test)\n",
    "# Predict the classes for test objects\n",
    "pat_cls.predict(test=X_test)\n",
    "# Results\n",
    "print(\"Accuracy:\", round(accuracy_score(y_test, pat_cls.predictions), 4))\n",
    "print(\"F1-score:\", round(f1_score(y_test, pat_cls.predictions, average='macro'), 4))"
   ]
  },
  {
   "cell_type": "markdown",
   "metadata": {},
   "source": [
    "## Mixed data"
   ]
  },
  {
   "cell_type": "code",
   "execution_count": 10,
   "metadata": {},
   "outputs": [
    {
     "data": {
      "text/html": [
       "<div>\n",
       "<style scoped>\n",
       "    .dataframe tbody tr th:only-of-type {\n",
       "        vertical-align: middle;\n",
       "    }\n",
       "\n",
       "    .dataframe tbody tr th {\n",
       "        vertical-align: top;\n",
       "    }\n",
       "\n",
       "    .dataframe thead th {\n",
       "        text-align: right;\n",
       "    }\n",
       "</style>\n",
       "<table border=\"1\" class=\"dataframe\">\n",
       "  <thead>\n",
       "    <tr style=\"text-align: right;\">\n",
       "      <th></th>\n",
       "      <th>age</th>\n",
       "      <th>anaemia</th>\n",
       "      <th>creatinine_phosphokinase</th>\n",
       "      <th>diabetes</th>\n",
       "      <th>ejection_fraction</th>\n",
       "      <th>high_blood_pressure</th>\n",
       "      <th>platelets</th>\n",
       "      <th>serum_creatinine</th>\n",
       "      <th>serum_sodium</th>\n",
       "      <th>sex</th>\n",
       "      <th>smoking</th>\n",
       "      <th>time</th>\n",
       "      <th>DEATH_EVENT</th>\n",
       "    </tr>\n",
       "  </thead>\n",
       "  <tbody>\n",
       "    <tr>\n",
       "      <th>76</th>\n",
       "      <td>70.0</td>\n",
       "      <td>0</td>\n",
       "      <td>92</td>\n",
       "      <td>0</td>\n",
       "      <td>60</td>\n",
       "      <td>1</td>\n",
       "      <td>317000.0</td>\n",
       "      <td>0.8</td>\n",
       "      <td>140</td>\n",
       "      <td>0</td>\n",
       "      <td>1</td>\n",
       "      <td>74</td>\n",
       "      <td>0</td>\n",
       "    </tr>\n",
       "    <tr>\n",
       "      <th>4</th>\n",
       "      <td>65.0</td>\n",
       "      <td>1</td>\n",
       "      <td>160</td>\n",
       "      <td>1</td>\n",
       "      <td>20</td>\n",
       "      <td>0</td>\n",
       "      <td>327000.0</td>\n",
       "      <td>2.7</td>\n",
       "      <td>116</td>\n",
       "      <td>0</td>\n",
       "      <td>0</td>\n",
       "      <td>8</td>\n",
       "      <td>1</td>\n",
       "    </tr>\n",
       "    <tr>\n",
       "      <th>104</th>\n",
       "      <td>60.0</td>\n",
       "      <td>0</td>\n",
       "      <td>53</td>\n",
       "      <td>0</td>\n",
       "      <td>50</td>\n",
       "      <td>1</td>\n",
       "      <td>286000.0</td>\n",
       "      <td>2.3</td>\n",
       "      <td>143</td>\n",
       "      <td>0</td>\n",
       "      <td>0</td>\n",
       "      <td>87</td>\n",
       "      <td>0</td>\n",
       "    </tr>\n",
       "    <tr>\n",
       "      <th>146</th>\n",
       "      <td>52.0</td>\n",
       "      <td>0</td>\n",
       "      <td>132</td>\n",
       "      <td>0</td>\n",
       "      <td>30</td>\n",
       "      <td>0</td>\n",
       "      <td>218000.0</td>\n",
       "      <td>0.7</td>\n",
       "      <td>136</td>\n",
       "      <td>1</td>\n",
       "      <td>1</td>\n",
       "      <td>112</td>\n",
       "      <td>0</td>\n",
       "    </tr>\n",
       "    <tr>\n",
       "      <th>126</th>\n",
       "      <td>46.0</td>\n",
       "      <td>0</td>\n",
       "      <td>168</td>\n",
       "      <td>1</td>\n",
       "      <td>17</td>\n",
       "      <td>1</td>\n",
       "      <td>271000.0</td>\n",
       "      <td>2.1</td>\n",
       "      <td>124</td>\n",
       "      <td>0</td>\n",
       "      <td>0</td>\n",
       "      <td>100</td>\n",
       "      <td>1</td>\n",
       "    </tr>\n",
       "  </tbody>\n",
       "</table>\n",
       "</div>"
      ],
      "text/plain": [
       "      age  anaemia  creatinine_phosphokinase  diabetes  ejection_fraction  \\\n",
       "76   70.0        0                        92         0                 60   \n",
       "4    65.0        1                       160         1                 20   \n",
       "104  60.0        0                        53         0                 50   \n",
       "146  52.0        0                       132         0                 30   \n",
       "126  46.0        0                       168         1                 17   \n",
       "\n",
       "     high_blood_pressure  platelets  serum_creatinine  serum_sodium  sex  \\\n",
       "76                     1   317000.0               0.8           140    0   \n",
       "4                      0   327000.0               2.7           116    0   \n",
       "104                    1   286000.0               2.3           143    0   \n",
       "146                    0   218000.0               0.7           136    1   \n",
       "126                    1   271000.0               2.1           124    0   \n",
       "\n",
       "     smoking  time  DEATH_EVENT  \n",
       "76         1    74            0  \n",
       "4          0     8            1  \n",
       "104        0    87            0  \n",
       "146        1   112            0  \n",
       "126        0   100            1  "
      ]
     },
     "execution_count": 10,
     "metadata": {},
     "output_type": "execute_result"
    }
   ],
   "source": [
    "df = pd.read_csv('data_sets/heart_failure_clinical_records_dataset.csv')\n",
    "df.sample(5)"
   ]
  },
  {
   "cell_type": "code",
   "execution_count": 11,
   "metadata": {},
   "outputs": [],
   "source": [
    "X = df.drop('DEATH_EVENT',axis=1).values\n",
    "y = df['DEATH_EVENT'].values\n",
    "X_train, X_test, y_train, y_test = train_test_split(X, y, test_size=0.3, random_state=42)"
   ]
  },
  {
   "cell_type": "code",
   "execution_count": 12,
   "metadata": {},
   "outputs": [
    {
     "name": "stdout",
     "output_type": "stream",
     "text": [
      "Accuracy: 0.6778\n",
      "F1-score: 0.4268\n"
     ]
    }
   ],
   "source": [
    "# List of categorical columns\n",
    "cat_cols = np.array([1, 3, 5, 9, 10])\n",
    "# Initializing classifier object without randomization\n",
    "pat_cls = fcalc.classifier.PatternClassifier(context=X_train, labels=y_train, \n",
    "                                            categorical=cat_cols, # indices of columns with categorical features (all columns in this case)\n",
    "                                            method=\"standard\", randomize=False) # other methods: standard-support, ratio-support\n",
    "# Computing support\n",
    "pat_cls.compute_support(test=X_test)\n",
    "# Predict the classes for test objects\n",
    "pat_cls.predict(test=X_test)\n",
    "# Results\n",
    "print(\"Accuracy:\", round(accuracy_score(y_test, pat_cls.predictions), 4))\n",
    "print(\"F1-score:\", round(f1_score(y_test, pat_cls.predictions, average='macro'), 4))"
   ]
  },
  {
   "cell_type": "code",
   "execution_count": 13,
   "metadata": {},
   "outputs": [
    {
     "name": "stdout",
     "output_type": "stream",
     "text": [
      "Accuracy: 0.7444\n",
      "F1-score: 0.6854\n"
     ]
    }
   ],
   "source": [
    "# List of categorical columns\n",
    "cat_cols = np.array([1, 3, 5, 9, 10])\n",
    "# Initializing classifier object with randomization\n",
    "pat_cls = fcalc.classifier.PatternClassifier(context=X_train, labels=y_train, \n",
    "                                            categorical=cat_cols, # indices of columns with categorical features (all columns in this case)\n",
    "                                            method=\"standard\", randomize=True,\n",
    "                                            num_iters=30, subsample_size=2) # other methods: standard-support, ratio-support\n",
    "# Computing support\n",
    "pat_cls.compute_support(test=X_test)\n",
    "# Predict the classes for test objects\n",
    "pat_cls.predict(test=X_test)\n",
    "# Results\n",
    "print(\"Accuracy:\", round(accuracy_score(y_test, pat_cls.predictions), 4))\n",
    "print(\"F1-score:\", round(f1_score(y_test, pat_cls.predictions, average='macro'), 4))"
   ]
  },
  {
   "cell_type": "code",
   "execution_count": null,
   "metadata": {},
   "outputs": [],
   "source": []
  }
 ],
 "metadata": {
  "kernelspec": {
   "display_name": "base",
   "language": "python",
   "name": "python3"
  },
  "language_info": {
   "codemirror_mode": {
    "name": "ipython",
    "version": 3
   },
   "file_extension": ".py",
   "mimetype": "text/x-python",
   "name": "python",
   "nbconvert_exporter": "python",
   "pygments_lexer": "ipython3",
   "version": "3.11.3"
  },
  "orig_nbformat": 4
 },
 "nbformat": 4,
 "nbformat_minor": 2
}
